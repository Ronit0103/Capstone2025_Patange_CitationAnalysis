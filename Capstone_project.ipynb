{
  "nbformat": 4,
  "nbformat_minor": 0,
  "metadata": {
    "colab": {
      "provenance": []
    },
    "kernelspec": {
      "name": "python3",
      "display_name": "Python 3"
    },
    "language_info": {
      "name": "python"
    }
  },
  "cells": [
    {
      "cell_type": "code",
      "execution_count": 1,
      "metadata": {
        "colab": {
          "base_uri": "https://localhost:8080/"
        },
        "id": "U7X3GTBGy5GY",
        "outputId": "331385d4-83df-476f-f74c-a9589879c85a"
      },
      "outputs": [
        {
          "output_type": "stream",
          "name": "stdout",
          "text": [
            "# Directed graph (each unordered pair of nodes is saved once): Cit-HepTh.txt\n",
            "# Paper citation network of Arxiv High Energy Physics Theory category\n",
            "# Nodes: 27770 Edges: 352807\n",
            "# FromNodeId\tToNodeId\n",
            "1001\t9304045\n",
            "1001\t9308122\n",
            "1001\t9309097\n",
            "1001\t9311042\n",
            "1001\t9401139\n",
            "1001\t9404151\n"
          ]
        }
      ],
      "source": [
        "file_path = \"/content/Cit-HepTh.txt\"\n",
        "\n",
        "with open(file_path, \"r\") as file:\n",
        "    for _ in range(10):\n",
        "        print(file.readline().strip())\n"
      ]
    },
    {
      "cell_type": "code",
      "source": [],
      "metadata": {
        "id": "vlUn6uZUgtTn"
      },
      "execution_count": 4,
      "outputs": []
    },
    {
      "cell_type": "code",
      "source": [
        "import tarfile\n",
        "\n",
        "with tarfile.open(\"/content/cit-HepTh-abstracts.tar.gz\", \"r:gz\") as tar:\n",
        "    tar.extractall(path=\"/content/cit-HepTh-abstracts\")\n",
        "\n",
        "print(\" Abstracts extracted.\")\n",
        "\n",
        "\n"
      ],
      "metadata": {
        "colab": {
          "base_uri": "https://localhost:8080/"
        },
        "id": "1HnQMfQWgpox",
        "outputId": "63013d08-e38f-465a-9bc1-9352c6013277"
      },
      "execution_count": 22,
      "outputs": [
        {
          "output_type": "stream",
          "name": "stdout",
          "text": [
            " Abstracts extracted.\n"
          ]
        }
      ]
    },
    {
      "cell_type": "code",
      "source": [
        "import re\n",
        "from pathlib import Path\n",
        "import pandas as pd\n",
        "\n",
        "\n",
        "base_path = Path(\"/content/cit-HepTh-abstracts\")\n",
        "metadata_records = []\n",
        "\n",
        "# mapping function for field classification\n",
        "def map_to_field(raw_text):\n",
        "    raw_text = raw_text.lower()\n",
        "    if \"phenomenology\" in raw_text:\n",
        "        return \"hep-ph\"\n",
        "    elif \"experiment\" in raw_text:\n",
        "        return \"hep-ex\"\n",
        "    elif \"lattice\" in raw_text:\n",
        "        return \"hep-lat\"\n",
        "    elif \"quantum algebra\" in raw_text or \"mathematical physics\" in raw_text:\n",
        "        return \"hep-th\"\n",
        "    elif any(term in raw_text for term in [\"chaotic dynamics\", \"superconductivity\", \"quantum hall\", \"mesoscopic\", \"statistical mechanics\"]):\n",
        "        return \"cond-mat\"\n",
        "    elif any(term in raw_text for term in [\"algebraic geometry\", \"differential geometry\", \"symplectic\", \"functional analysis\"]):\n",
        "        return \"math-ph\"\n",
        "    elif \"theory\" in raw_text:\n",
        "        return \"hep-th\"\n",
        "    else:\n",
        "        return \"other\"\n",
        "\n",
        "# Iterate through all files\n",
        "for year_folder in base_path.iterdir():\n",
        "    if year_folder.is_dir():\n",
        "        for file in year_folder.glob(\"*.abs\"):\n",
        "            try:\n",
        "                with open(file, \"r\", encoding=\"utf-8\", errors=\"ignore\") as f:\n",
        "                    lines = f.readlines()\n",
        "                paper_id = int(file.stem)\n",
        "                field_line = next((line for line in lines if \"Subj-class:\" in line), None)\n",
        "                if field_line:\n",
        "                    raw_subject = field_line.replace(\"Subj-class:\", \"\").strip()\n",
        "                    field = map_to_field(raw_subject)\n",
        "                    metadata_records.append({\"paper_id\": paper_id, \"field\": field})\n",
        "            except Exception as e:\n",
        "                print(f\"Error reading {file.name}: {e}\")\n",
        "\n",
        "\n",
        "metadata_df = pd.DataFrame(metadata_records)\n",
        "metadata_df.to_csv(\"/content/metadata.csv\", index=False)\n",
        "metadata_df['field'].value_counts(), metadata_df.head()\n"
      ],
      "metadata": {
        "colab": {
          "base_uri": "https://localhost:8080/"
        },
        "id": "8_aeRYykhnF1",
        "outputId": "8e1834af-53f0-43c9-d95c-077060873ecb"
      },
      "execution_count": 26,
      "outputs": [
        {
          "output_type": "execute_result",
          "data": {
            "text/plain": [
              "(field\n",
              " hep-th      1900\n",
              " math-ph      439\n",
              " cond-mat     204\n",
              " Name: count, dtype: int64,\n",
              "    paper_id    field\n",
              " 0    205126  math-ph\n",
              " 1    211213  math-ph\n",
              " 2    212042   hep-th\n",
              " 3    210188   hep-th\n",
              " 4    210143   hep-th)"
            ]
          },
          "metadata": {},
          "execution_count": 26
        }
      ]
    },
    {
      "cell_type": "code",
      "source": [
        "# Clean up\n",
        "metadata_df[\"field\"] = metadata_df[\"field\"].str.strip().str.replace(r\"[^\\w\\-]+\", \"\", regex=True)\n",
        "\n",
        "\n",
        "metadata_df.to_csv(\"/content/metadata.csv\", index=False)\n",
        "\n",
        "metadata_df['field'].value_counts()\n"
      ],
      "metadata": {
        "colab": {
          "base_uri": "https://localhost:8080/",
          "height": 209
        },
        "id": "rhgxwZDIrk6h",
        "outputId": "309f9a84-5921-4cbe-cc84-6a228d03128c"
      },
      "execution_count": 27,
      "outputs": [
        {
          "output_type": "execute_result",
          "data": {
            "text/plain": [
              "field\n",
              "hep-th      1900\n",
              "math-ph      439\n",
              "cond-mat     204\n",
              "Name: count, dtype: int64"
            ],
            "text/html": [
              "<div>\n",
              "<style scoped>\n",
              "    .dataframe tbody tr th:only-of-type {\n",
              "        vertical-align: middle;\n",
              "    }\n",
              "\n",
              "    .dataframe tbody tr th {\n",
              "        vertical-align: top;\n",
              "    }\n",
              "\n",
              "    .dataframe thead th {\n",
              "        text-align: right;\n",
              "    }\n",
              "</style>\n",
              "<table border=\"1\" class=\"dataframe\">\n",
              "  <thead>\n",
              "    <tr style=\"text-align: right;\">\n",
              "      <th></th>\n",
              "      <th>count</th>\n",
              "    </tr>\n",
              "    <tr>\n",
              "      <th>field</th>\n",
              "      <th></th>\n",
              "    </tr>\n",
              "  </thead>\n",
              "  <tbody>\n",
              "    <tr>\n",
              "      <th>hep-th</th>\n",
              "      <td>1900</td>\n",
              "    </tr>\n",
              "    <tr>\n",
              "      <th>math-ph</th>\n",
              "      <td>439</td>\n",
              "    </tr>\n",
              "    <tr>\n",
              "      <th>cond-mat</th>\n",
              "      <td>204</td>\n",
              "    </tr>\n",
              "  </tbody>\n",
              "</table>\n",
              "</div><br><label><b>dtype:</b> int64</label>"
            ]
          },
          "metadata": {},
          "execution_count": 27
        }
      ]
    },
    {
      "cell_type": "code",
      "source": [
        "import gzip\n",
        "\n",
        "#Load the submission dates file\n",
        "with gzip.open(\"/content/cit-HepTh-dates.txt.gz\", 'rt') as f:\n",
        "    time_df = pd.read_csv(f, sep='\\t', header=None, names=[\"paper_id\", \"date\"])\n",
        "\n",
        "# Remove comments and clean paper IDs\n",
        "time_df = time_df[~time_df['paper_id'].astype(str).str.startswith('#')].copy()\n",
        "time_df['paper_id'] = time_df['paper_id'].astype(int)\n",
        "time_df['date'] = pd.to_datetime(time_df['date'])\n",
        "\n",
        "# Load your metadata (fields per paper)\n",
        "metadata = pd.read_csv(\"/content/metadata.csv\")  # Update path if needed\n",
        "\n",
        "# Merge metadata with dates\n",
        "merged_df = pd.merge(metadata, time_df, on=\"paper_id\", how=\"inner\")\n",
        "\n",
        "# Add 'year' column\n",
        "merged_df['year'] = merged_df['date'].dt.year\n",
        "\n",
        "# save\n",
        "merged_df.to_csv(\"/content/metadata_with_dates.csv\", index=False)\n",
        "\n",
        "\n",
        "print(\" metadata_with_dates.csv created.\")\n",
        "merged_df.head()\n"
      ],
      "metadata": {
        "colab": {
          "base_uri": "https://localhost:8080/",
          "height": 224
        },
        "id": "KYRNd5uN3ng9",
        "outputId": "54af0116-6577-4969-8ebd-f4a970907822"
      },
      "execution_count": 31,
      "outputs": [
        {
          "output_type": "stream",
          "name": "stdout",
          "text": [
            "✅ metadata_with_dates.csv created.\n"
          ]
        },
        {
          "output_type": "execute_result",
          "data": {
            "text/plain": [
              "   paper_id     field       date  year\n",
              "0    201080    hep-th 2002-01-10  2002\n",
              "1    202110    hep-th 2002-02-12  2002\n",
              "2    201156    hep-th 2002-01-17  2002\n",
              "3    203072  cond-mat 2002-03-07  2002\n",
              "4    201045    hep-th 2002-01-08  2002"
            ],
            "text/html": [
              "\n",
              "  <div id=\"df-5dfff70b-46e8-473e-8658-d0c3b66a1305\" class=\"colab-df-container\">\n",
              "    <div>\n",
              "<style scoped>\n",
              "    .dataframe tbody tr th:only-of-type {\n",
              "        vertical-align: middle;\n",
              "    }\n",
              "\n",
              "    .dataframe tbody tr th {\n",
              "        vertical-align: top;\n",
              "    }\n",
              "\n",
              "    .dataframe thead th {\n",
              "        text-align: right;\n",
              "    }\n",
              "</style>\n",
              "<table border=\"1\" class=\"dataframe\">\n",
              "  <thead>\n",
              "    <tr style=\"text-align: right;\">\n",
              "      <th></th>\n",
              "      <th>paper_id</th>\n",
              "      <th>field</th>\n",
              "      <th>date</th>\n",
              "      <th>year</th>\n",
              "    </tr>\n",
              "  </thead>\n",
              "  <tbody>\n",
              "    <tr>\n",
              "      <th>0</th>\n",
              "      <td>201080</td>\n",
              "      <td>hep-th</td>\n",
              "      <td>2002-01-10</td>\n",
              "      <td>2002</td>\n",
              "    </tr>\n",
              "    <tr>\n",
              "      <th>1</th>\n",
              "      <td>202110</td>\n",
              "      <td>hep-th</td>\n",
              "      <td>2002-02-12</td>\n",
              "      <td>2002</td>\n",
              "    </tr>\n",
              "    <tr>\n",
              "      <th>2</th>\n",
              "      <td>201156</td>\n",
              "      <td>hep-th</td>\n",
              "      <td>2002-01-17</td>\n",
              "      <td>2002</td>\n",
              "    </tr>\n",
              "    <tr>\n",
              "      <th>3</th>\n",
              "      <td>203072</td>\n",
              "      <td>cond-mat</td>\n",
              "      <td>2002-03-07</td>\n",
              "      <td>2002</td>\n",
              "    </tr>\n",
              "    <tr>\n",
              "      <th>4</th>\n",
              "      <td>201045</td>\n",
              "      <td>hep-th</td>\n",
              "      <td>2002-01-08</td>\n",
              "      <td>2002</td>\n",
              "    </tr>\n",
              "  </tbody>\n",
              "</table>\n",
              "</div>\n",
              "    <div class=\"colab-df-buttons\">\n",
              "\n",
              "  <div class=\"colab-df-container\">\n",
              "    <button class=\"colab-df-convert\" onclick=\"convertToInteractive('df-5dfff70b-46e8-473e-8658-d0c3b66a1305')\"\n",
              "            title=\"Convert this dataframe to an interactive table.\"\n",
              "            style=\"display:none;\">\n",
              "\n",
              "  <svg xmlns=\"http://www.w3.org/2000/svg\" height=\"24px\" viewBox=\"0 -960 960 960\">\n",
              "    <path d=\"M120-120v-720h720v720H120Zm60-500h600v-160H180v160Zm220 220h160v-160H400v160Zm0 220h160v-160H400v160ZM180-400h160v-160H180v160Zm440 0h160v-160H620v160ZM180-180h160v-160H180v160Zm440 0h160v-160H620v160Z\"/>\n",
              "  </svg>\n",
              "    </button>\n",
              "\n",
              "  <style>\n",
              "    .colab-df-container {\n",
              "      display:flex;\n",
              "      gap: 12px;\n",
              "    }\n",
              "\n",
              "    .colab-df-convert {\n",
              "      background-color: #E8F0FE;\n",
              "      border: none;\n",
              "      border-radius: 50%;\n",
              "      cursor: pointer;\n",
              "      display: none;\n",
              "      fill: #1967D2;\n",
              "      height: 32px;\n",
              "      padding: 0 0 0 0;\n",
              "      width: 32px;\n",
              "    }\n",
              "\n",
              "    .colab-df-convert:hover {\n",
              "      background-color: #E2EBFA;\n",
              "      box-shadow: 0px 1px 2px rgba(60, 64, 67, 0.3), 0px 1px 3px 1px rgba(60, 64, 67, 0.15);\n",
              "      fill: #174EA6;\n",
              "    }\n",
              "\n",
              "    .colab-df-buttons div {\n",
              "      margin-bottom: 4px;\n",
              "    }\n",
              "\n",
              "    [theme=dark] .colab-df-convert {\n",
              "      background-color: #3B4455;\n",
              "      fill: #D2E3FC;\n",
              "    }\n",
              "\n",
              "    [theme=dark] .colab-df-convert:hover {\n",
              "      background-color: #434B5C;\n",
              "      box-shadow: 0px 1px 3px 1px rgba(0, 0, 0, 0.15);\n",
              "      filter: drop-shadow(0px 1px 2px rgba(0, 0, 0, 0.3));\n",
              "      fill: #FFFFFF;\n",
              "    }\n",
              "  </style>\n",
              "\n",
              "    <script>\n",
              "      const buttonEl =\n",
              "        document.querySelector('#df-5dfff70b-46e8-473e-8658-d0c3b66a1305 button.colab-df-convert');\n",
              "      buttonEl.style.display =\n",
              "        google.colab.kernel.accessAllowed ? 'block' : 'none';\n",
              "\n",
              "      async function convertToInteractive(key) {\n",
              "        const element = document.querySelector('#df-5dfff70b-46e8-473e-8658-d0c3b66a1305');\n",
              "        const dataTable =\n",
              "          await google.colab.kernel.invokeFunction('convertToInteractive',\n",
              "                                                    [key], {});\n",
              "        if (!dataTable) return;\n",
              "\n",
              "        const docLinkHtml = 'Like what you see? Visit the ' +\n",
              "          '<a target=\"_blank\" href=https://colab.research.google.com/notebooks/data_table.ipynb>data table notebook</a>'\n",
              "          + ' to learn more about interactive tables.';\n",
              "        element.innerHTML = '';\n",
              "        dataTable['output_type'] = 'display_data';\n",
              "        await google.colab.output.renderOutput(dataTable, element);\n",
              "        const docLink = document.createElement('div');\n",
              "        docLink.innerHTML = docLinkHtml;\n",
              "        element.appendChild(docLink);\n",
              "      }\n",
              "    </script>\n",
              "  </div>\n",
              "\n",
              "\n",
              "    <div id=\"df-6996ab37-6d4c-4822-bcc8-b3e4b2b4945e\">\n",
              "      <button class=\"colab-df-quickchart\" onclick=\"quickchart('df-6996ab37-6d4c-4822-bcc8-b3e4b2b4945e')\"\n",
              "                title=\"Suggest charts\"\n",
              "                style=\"display:none;\">\n",
              "\n",
              "<svg xmlns=\"http://www.w3.org/2000/svg\" height=\"24px\"viewBox=\"0 0 24 24\"\n",
              "     width=\"24px\">\n",
              "    <g>\n",
              "        <path d=\"M19 3H5c-1.1 0-2 .9-2 2v14c0 1.1.9 2 2 2h14c1.1 0 2-.9 2-2V5c0-1.1-.9-2-2-2zM9 17H7v-7h2v7zm4 0h-2V7h2v10zm4 0h-2v-4h2v4z\"/>\n",
              "    </g>\n",
              "</svg>\n",
              "      </button>\n",
              "\n",
              "<style>\n",
              "  .colab-df-quickchart {\n",
              "      --bg-color: #E8F0FE;\n",
              "      --fill-color: #1967D2;\n",
              "      --hover-bg-color: #E2EBFA;\n",
              "      --hover-fill-color: #174EA6;\n",
              "      --disabled-fill-color: #AAA;\n",
              "      --disabled-bg-color: #DDD;\n",
              "  }\n",
              "\n",
              "  [theme=dark] .colab-df-quickchart {\n",
              "      --bg-color: #3B4455;\n",
              "      --fill-color: #D2E3FC;\n",
              "      --hover-bg-color: #434B5C;\n",
              "      --hover-fill-color: #FFFFFF;\n",
              "      --disabled-bg-color: #3B4455;\n",
              "      --disabled-fill-color: #666;\n",
              "  }\n",
              "\n",
              "  .colab-df-quickchart {\n",
              "    background-color: var(--bg-color);\n",
              "    border: none;\n",
              "    border-radius: 50%;\n",
              "    cursor: pointer;\n",
              "    display: none;\n",
              "    fill: var(--fill-color);\n",
              "    height: 32px;\n",
              "    padding: 0;\n",
              "    width: 32px;\n",
              "  }\n",
              "\n",
              "  .colab-df-quickchart:hover {\n",
              "    background-color: var(--hover-bg-color);\n",
              "    box-shadow: 0 1px 2px rgba(60, 64, 67, 0.3), 0 1px 3px 1px rgba(60, 64, 67, 0.15);\n",
              "    fill: var(--button-hover-fill-color);\n",
              "  }\n",
              "\n",
              "  .colab-df-quickchart-complete:disabled,\n",
              "  .colab-df-quickchart-complete:disabled:hover {\n",
              "    background-color: var(--disabled-bg-color);\n",
              "    fill: var(--disabled-fill-color);\n",
              "    box-shadow: none;\n",
              "  }\n",
              "\n",
              "  .colab-df-spinner {\n",
              "    border: 2px solid var(--fill-color);\n",
              "    border-color: transparent;\n",
              "    border-bottom-color: var(--fill-color);\n",
              "    animation:\n",
              "      spin 1s steps(1) infinite;\n",
              "  }\n",
              "\n",
              "  @keyframes spin {\n",
              "    0% {\n",
              "      border-color: transparent;\n",
              "      border-bottom-color: var(--fill-color);\n",
              "      border-left-color: var(--fill-color);\n",
              "    }\n",
              "    20% {\n",
              "      border-color: transparent;\n",
              "      border-left-color: var(--fill-color);\n",
              "      border-top-color: var(--fill-color);\n",
              "    }\n",
              "    30% {\n",
              "      border-color: transparent;\n",
              "      border-left-color: var(--fill-color);\n",
              "      border-top-color: var(--fill-color);\n",
              "      border-right-color: var(--fill-color);\n",
              "    }\n",
              "    40% {\n",
              "      border-color: transparent;\n",
              "      border-right-color: var(--fill-color);\n",
              "      border-top-color: var(--fill-color);\n",
              "    }\n",
              "    60% {\n",
              "      border-color: transparent;\n",
              "      border-right-color: var(--fill-color);\n",
              "    }\n",
              "    80% {\n",
              "      border-color: transparent;\n",
              "      border-right-color: var(--fill-color);\n",
              "      border-bottom-color: var(--fill-color);\n",
              "    }\n",
              "    90% {\n",
              "      border-color: transparent;\n",
              "      border-bottom-color: var(--fill-color);\n",
              "    }\n",
              "  }\n",
              "</style>\n",
              "\n",
              "      <script>\n",
              "        async function quickchart(key) {\n",
              "          const quickchartButtonEl =\n",
              "            document.querySelector('#' + key + ' button');\n",
              "          quickchartButtonEl.disabled = true;  // To prevent multiple clicks.\n",
              "          quickchartButtonEl.classList.add('colab-df-spinner');\n",
              "          try {\n",
              "            const charts = await google.colab.kernel.invokeFunction(\n",
              "                'suggestCharts', [key], {});\n",
              "          } catch (error) {\n",
              "            console.error('Error during call to suggestCharts:', error);\n",
              "          }\n",
              "          quickchartButtonEl.classList.remove('colab-df-spinner');\n",
              "          quickchartButtonEl.classList.add('colab-df-quickchart-complete');\n",
              "        }\n",
              "        (() => {\n",
              "          let quickchartButtonEl =\n",
              "            document.querySelector('#df-6996ab37-6d4c-4822-bcc8-b3e4b2b4945e button');\n",
              "          quickchartButtonEl.style.display =\n",
              "            google.colab.kernel.accessAllowed ? 'block' : 'none';\n",
              "        })();\n",
              "      </script>\n",
              "    </div>\n",
              "\n",
              "    </div>\n",
              "  </div>\n"
            ],
            "application/vnd.google.colaboratory.intrinsic+json": {
              "type": "dataframe",
              "variable_name": "merged_df",
              "summary": "{\n  \"name\": \"merged_df\",\n  \"rows\": 796,\n  \"fields\": [\n    {\n      \"column\": \"paper_id\",\n      \"properties\": {\n        \"dtype\": \"number\",\n        \"std\": 3757000,\n        \"min\": 1007,\n        \"max\": 9912290,\n        \"num_unique_values\": 780,\n        \"samples\": [\n          108159,\n          111172,\n          102122\n        ],\n        \"semantic_type\": \"\",\n        \"description\": \"\"\n      }\n    },\n    {\n      \"column\": \"field\",\n      \"properties\": {\n        \"dtype\": \"category\",\n        \"num_unique_values\": 3,\n        \"samples\": [\n          \"hep-th\",\n          \"cond-mat\",\n          \"math-ph\"\n        ],\n        \"semantic_type\": \"\",\n        \"description\": \"\"\n      }\n    },\n    {\n      \"column\": \"date\",\n      \"properties\": {\n        \"dtype\": \"date\",\n        \"min\": \"1993-10-01 00:00:00\",\n        \"max\": \"2002-03-11 00:00:00\",\n        \"num_unique_values\": 477,\n        \"samples\": [\n          \"1994-11-08 00:00:00\",\n          \"2002-01-03 00:00:00\",\n          \"2000-06-16 00:00:00\"\n        ],\n        \"semantic_type\": \"\",\n        \"description\": \"\"\n      }\n    },\n    {\n      \"column\": \"year\",\n      \"properties\": {\n        \"dtype\": \"int32\",\n        \"num_unique_values\": 10,\n        \"samples\": [\n          1996,\n          2000,\n          1999\n        ],\n        \"semantic_type\": \"\",\n        \"description\": \"\"\n      }\n    }\n  ]\n}"
            }
          },
          "metadata": {},
          "execution_count": 31
        }
      ]
    },
    {
      "cell_type": "code",
      "source": [
        "import networkx as nx\n",
        "import pandas as pd\n",
        "import matplotlib.pyplot as plt\n",
        "import numpy as np"
      ],
      "metadata": {
        "id": "p4p3kOpR1p_O"
      },
      "execution_count": 15,
      "outputs": []
    },
    {
      "cell_type": "code",
      "source": [
        "# load data\n",
        "file_path = \"/content/Cit-HepTh.txt\"\n",
        "\n",
        "edges = []\n",
        "with open(file_path, \"r\") as f:\n",
        "    for line in f:\n",
        "        if line.startswith(\"#\"):\n",
        "            continue\n",
        "        source, target = map(int, line.strip().split())\n",
        "        edges.append((source, target))\n",
        "\n",
        "G = nx.DiGraph()\n",
        "G.add_edges_from(edges)\n",
        "\n",
        "print(f\" Number of Papers (Nodes): {G.number_of_nodes()}\")\n",
        "print(f\" Number of Citations (Edges): {G.number_of_edges()}\")\n",
        "\n",
        "# Load Metadata and Assign Fields\n",
        "metadata = pd.read_csv(\"metadata.csv\")\n",
        "paper_field_map = dict(zip(metadata[\"paper_id\"], metadata[\"field\"]))\n",
        "nx.set_node_attributes(G, paper_field_map, \"field\")\n",
        "\n",
        "#  COIN Matrix\n",
        "fields = sorted(metadata[\"field\"].unique())\n",
        "field_indices = {field: idx for idx, field in enumerate(fields)}\n",
        "n = len(fields)\n",
        "coin_matrix = np.zeros((n, n), dtype=int)\n",
        "\n",
        "for u, v in G.edges():\n",
        "    field_u = G.nodes[u].get(\"field\")\n",
        "    field_v = G.nodes[v].get(\"field\")\n",
        "    if field_u and field_v:\n",
        "        i, j = field_indices[field_u], field_indices[field_v]\n",
        "        coin_matrix[i, j] += 1\n",
        "\n",
        "coin_df = pd.DataFrame(coin_matrix, index=fields, columns=fields)\n",
        "print(\"\\n COIN Matrix (Citation Flow Between Fields):\")\n",
        "print(coin_df)\n",
        "\n",
        "# Computing Self-Citation Ratio (Introspection) per Field\n",
        "introspection_scores = {}\n",
        "for field in fields:\n",
        "    i = field_indices[field]\n",
        "    self_cites = coin_matrix[i, i]\n",
        "    total_cites = np.sum(coin_matrix[i, :])\n",
        "    ratio = self_cites / total_cites if total_cites > 0 else 0\n",
        "    print(f\" Introspection for {field}: {ratio:.4f}\")\n",
        "\n",
        "# Export-Import Ratio per Field\n",
        "export_import_scores = {}\n",
        "for field in fields:\n",
        "    i = field_indices[field]\n",
        "    exports = np.sum(coin_matrix[i, :]) - coin_matrix[i, i]\n",
        "    imports = np.sum(coin_matrix[:, i]) - coin_matrix[i, i]\n",
        "    ratio = exports / imports if imports > 0 else float('inf')\n",
        "    print(f\" Export-Import Ratio for {field}: {ratio:.4f}\")\n",
        "\n",
        "# Visualize the COIN Network\n",
        "H = nx.DiGraph()\n",
        "for i, f_from in enumerate(fields):\n",
        "    for j, f_to in enumerate(fields):\n",
        "        if coin_matrix[i, j] > 0 and f_from != f_to:\n",
        "            H.add_edge(f_from, f_to, weight=coin_matrix[i, j])\n",
        "\n",
        "pos = nx.spring_layout(H, seed=42)\n",
        "plt.figure(figsize=(10, 6))\n",
        "edges, weights = zip(*nx.get_edge_attributes(H, 'weight').items())\n",
        "nx.draw(H, pos, with_labels=True, node_size=1500, node_color=\"lightblue\", font_size=10, arrows=True)\n",
        "nx.draw_networkx_edges(H, pos, edge_color='gray', width=[w/20 for w in weights])\n",
        "plt.title(\"COIN Network: Citation Flow Between Fields\")\n",
        "plt.show()\n"
      ],
      "metadata": {
        "colab": {
          "base_uri": "https://localhost:8080/",
          "height": 914
        },
        "id": "a2Rluv-aWdiD",
        "outputId": "6c7b02cc-877c-4abc-b59c-27f8ea9fd5ed"
      },
      "execution_count": 32,
      "outputs": [
        {
          "output_type": "stream",
          "name": "stdout",
          "text": [
            " Number of Papers (Nodes): 27770\n",
            " Number of Citations (Edges): 352807\n",
            "\n",
            " COIN Matrix (Citation Flow Between Fields):\n",
            "          cond-mat  hep-th  math-ph\n",
            "cond-mat       125     122        7\n",
            "hep-th          93    2862      362\n",
            "math-ph          0     187      833\n",
            " Introspection for cond-mat: 0.4921\n",
            " Introspection for hep-th: 0.8628\n",
            " Introspection for math-ph: 0.8167\n",
            " Export-Import Ratio for cond-mat: 1.3871\n",
            " Export-Import Ratio for hep-th: 1.4725\n",
            " Export-Import Ratio for math-ph: 0.5068\n"
          ]
        },
        {
          "output_type": "display_data",
          "data": {
            "text/plain": [
              "<Figure size 1000x600 with 1 Axes>"
            ],
            "image/png": "[encoded data removed]"
          },
          "metadata": {}
        }
      ]
    },
    {
      "cell_type": "code",
      "source": [
        "import os\n",
        "os.listdir(\"/content\")\n"
      ],
      "metadata": {
        "colab": {
          "base_uri": "https://localhost:8080/"
        },
        "id": "ls0nWz9Inwob",
        "outputId": "906d681b-d4ea-4912-9d1a-4fe165c5b78c"
      },
      "execution_count": 23,
      "outputs": [
        {
          "output_type": "execute_result",
          "data": {
            "text/plain": [
              "['.config',\n",
              " 'cit-HepTh-abstracts',\n",
              " 'cit-HepTh-abstracts.tar.gz',\n",
              " 'Cit-HepTh.txt',\n",
              " 'metadata.csv',\n",
              " 'sample_data']"
            ]
          },
          "metadata": {},
          "execution_count": 23
        }
      ]
    },
    {
      "cell_type": "code",
      "source": [
        "import os\n",
        "\n",
        "\n",
        "[entry for entry in os.listdir(\"/content\") if \"hep\" in entry.lower()]\n"
      ],
      "metadata": {
        "colab": {
          "base_uri": "https://localhost:8080/"
        },
        "id": "rqNHpKGFqs4d",
        "outputId": "a1449735-ad0e-411e-d575-5c4340243061"
      },
      "execution_count": 24,
      "outputs": [
        {
          "output_type": "execute_result",
          "data": {
            "text/plain": [
              "['cit-HepTh-abstracts', 'cit-HepTh-abstracts.tar.gz', 'Cit-HepTh.txt']"
            ]
          },
          "metadata": {},
          "execution_count": 24
        }
      ]
    }
  ]
}